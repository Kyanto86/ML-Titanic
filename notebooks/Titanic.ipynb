{
 "cells": [
  {
   "cell_type": "markdown",
   "metadata": {},
   "source": [
    "## Easy way to get Kaggle via Package"
   ]
  },
  {
   "cell_type": "code",
   "execution_count": 20,
   "metadata": {},
   "outputs": [],
   "source": [
    "from kaggle.api.kaggle_api_extended import KaggleApi"
   ]
  },
  {
   "cell_type": "code",
   "execution_count": 26,
   "metadata": {},
   "outputs": [
    {
     "name": "stdout",
     "output_type": "stream",
     "text": [
      "Downloading titanic.zip to titanic/data/raw\n",
      "\n"
     ]
    },
    {
     "name": "stderr",
     "output_type": "stream",
     "text": [
      "\n",
      "  0%|          | 0.00/34.1k [00:00<?, ?B/s]\n",
      "100%|##########| 34.1k/34.1k [00:00<00:00, 1.09MB/s]\n"
     ]
    }
   ],
   "source": [
    "!kaggle competitions download -c titanic -p \"titanic/data/raw\""
   ]
  },
  {
   "cell_type": "code",
   "execution_count": 28,
   "metadata": {},
   "outputs": [],
   "source": [
    "#unzip\n",
    "from zipfile import ZipFile\n",
    "with ZipFile(\"titanic/data/raw/titanic.zip\",'r') as zf:\n",
    "    zf.extractall('titanic/data/raw/')"
   ]
  },
  {
   "cell_type": "markdown",
   "metadata": {},
   "source": [
    "## Other Optional Way\n",
    "(might not work)"
   ]
  },
  {
   "cell_type": "code",
   "execution_count": 18,
   "metadata": {},
   "outputs": [
    {
     "name": "stdout",
     "output_type": "stream",
     "text": [
      "Overwriting $get_raw_data_script_file\n"
     ]
    }
   ],
   "source": [
    "%%writefile $get_raw_data_script_file\n",
    "import os\n",
    "import subprocess\n",
    "\n",
    "def extractFile(fileName, path):\n",
    "    p1 =subprocess.Popen([\"kaggle\",\"competitions\",\"download\",\"titanic\",\"-f\",fileName,\"-p\",path,\n",
    "                         \"--force\"],stdout=subprocess.PIPE,shell=True)\n",
    "    dirCreated = p1.communicate()\n",
    "    print(dirCreated)\n",
    "    p1.kill()\n",
    "    \n",
    "#rawDataFilePath\n",
    "raw_data_path = os.path.join(os.pardir,\"titanic\",\"data\",\"raw\")\n",
    "    \n",
    "print(raw_data_path)\n",
    "    \n",
    "extractFile(\"train.csv\",raw_data_path)\n",
    "extractFile(\"test.csv\",raw_data_path)"
   ]
  },
  {
   "cell_type": "code",
   "execution_count": 19,
   "metadata": {},
   "outputs": [
    {
     "name": "stdout",
     "output_type": "stream",
     "text": [
      "..\\titanic\\data\\raw\n",
      "(b'403 - Forbidden\\r\\n', None)\n",
      "(b'403 - Forbidden\\r\\n', None)\n"
     ]
    }
   ],
   "source": [
    "!python $get_raw_data_script_file"
   ]
  },
  {
   "cell_type": "code",
   "execution_count": null,
   "metadata": {},
   "outputs": [],
   "source": []
  }
 ],
 "metadata": {
  "kernelspec": {
   "display_name": "Python 3",
   "language": "python",
   "name": "python3"
  },
  "language_info": {
   "codemirror_mode": {
    "name": "ipython",
    "version": 3
   },
   "file_extension": ".py",
   "mimetype": "text/x-python",
   "name": "python",
   "nbconvert_exporter": "python",
   "pygments_lexer": "ipython3",
   "version": "3.7.3"
  }
 },
 "nbformat": 4,
 "nbformat_minor": 4
}
